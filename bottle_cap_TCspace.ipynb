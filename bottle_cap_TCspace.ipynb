{
 "cells": [
  {
   "cell_type": "markdown",
   "metadata": {},
   "source": [
    "## Imports"
   ]
  },
  {
   "cell_type": "code",
   "execution_count": 12,
   "metadata": {},
   "outputs": [],
   "source": [
    "import numpy as np\n",
    "from pydrake.multibody.plant import AddMultibodyPlantSceneGraph\n",
    "from pydrake.systems.framework import DiagramBuilder\n",
    "from pydrake.geometry import MeshcatVisualizer, StartMeshcat\n",
    "from pydrake.multibody.parsing import Parser\n",
    "from pydrake.math import RigidTransform, RotationMatrix\n",
    "from pydrake.visualization import ApplyVisualizationConfig, VisualizationConfig, AddFrameTriadIllustration"
   ]
  },
  {
   "cell_type": "markdown",
   "metadata": {},
   "source": [
    "### Scene imports"
   ]
  },
  {
   "cell_type": "code",
   "execution_count": 13,
   "metadata": {},
   "outputs": [],
   "source": [
    "from pydrake.common import FindResourceOrThrow\n",
    "from pydrake.geometry import MeshcatVisualizerParams, Role, GeometrySet, CollisionFilterDeclaration\n",
    "from pydrake.geometry.optimization import CspaceFreePolytope, SeparatingPlaneOrder\n",
    "from pydrake.multibody.rational import RationalForwardKinematics"
   ]
  },
  {
   "cell_type": "markdown",
   "metadata": {},
   "source": [
    "### Widgets imports"
   ]
  },
  {
   "cell_type": "code",
   "execution_count": 14,
   "metadata": {},
   "outputs": [],
   "source": [
    "from ipywidgets import widgets\n",
    "from functools import partial"
   ]
  },
  {
   "cell_type": "markdown",
   "metadata": {},
   "source": [
    "## Set up the scene"
   ]
  },
  {
   "cell_type": "code",
   "execution_count": 15,
   "metadata": {},
   "outputs": [
    {
     "name": "stderr",
     "output_type": "stream",
     "text": [
      "INFO:drake:Meshcat listening for connections at http://localhost:7001\n"
     ]
    },
    {
     "name": "stdout",
     "output_type": "stream",
     "text": [
      "http://localhost:7001\n"
     ]
    }
   ],
   "source": [
    "meshcat = StartMeshcat()\n",
    "builder = DiagramBuilder()\n",
    "plant, scene_graph = AddMultibodyPlantSceneGraph(builder, time_step=0.0)\n",
    "parser = Parser(plant, scene_graph)\n",
    "parser.SetAutoRenaming(True)\n",
    "\n",
    "# Add the robot\n",
    "gripper = parser.AddModels(file_name=\"my_sdfs/wsg_2dof.sdf\")[0]\n",
    "cap = parser.AddModels(file_name=\"my_sdfs/bottle_cap.sdf\")[0]\n",
    "\n",
    "# Set welds\n",
    "plant.WeldFrames(\n",
    "    plant.world_frame(), \n",
    "    plant.GetFrameByName(\"base_link\", cap),\n",
    "    RigidTransform(RotationMatrix(), [0, 0, 0]))\n",
    "\n",
    "p_GgraspO = [0, 0, .065]\n",
    "R_GgraspO = RotationMatrix.MakeXRotation(-np.pi / 2)\n",
    "plant.WeldFrames(\n",
    "    plant.world_frame(),\n",
    "    plant.GetFrameByName(\"base_wsg\", gripper),\n",
    "    RigidTransform(R_GgraspO, p_GgraspO))\n",
    "\n",
    "# plant.WeldFrames(\n",
    "#     plant.GetFrameByName(\"body\", gripper),\n",
    "#     plant.GetFrameByName(\"right_finger\", gripper),\n",
    "#     RigidTransform(RotationMatrix(), [0.025, 0, 0]))\n",
    "\n",
    "plant.Finalize()\n",
    "\n",
    "# Release collision constraints\n",
    "inspector = scene_graph.model_inspector()\n",
    "\n",
    "# Penetration allowed between gripper and cap\n",
    "\n",
    "# Gripper inner collision\n",
    "gripper_geometries = GeometrySet()\n",
    "for i in range(len(plant.GetBodyIndices(gripper))):\n",
    "    if i == 0: # Skip the base link\n",
    "        continue\n",
    "    body_index = plant.GetBodyIndices(gripper)[i]\n",
    "    body_geometries = inspector.GetGeometries(\n",
    "        plant.GetBodyFrameIdOrThrow(body_index))\n",
    "    gripper_geometries.Add(geometry_ids=body_geometries)\n",
    "scene_graph.collision_filter_manager().Apply(\n",
    "    CollisionFilterDeclaration().ExcludeWithin(gripper_geometries))\n",
    "\n",
    "# Gripper and cap collision\n",
    "cap_geometries = GeometrySet()\n",
    "for i in range(len(plant.GetBodyIndices(cap))):\n",
    "    body_index = plant.GetBodyIndices(cap)[i]\n",
    "    body_geometries = inspector.GetGeometries(\n",
    "        plant.GetBodyFrameIdOrThrow(body_index))\n",
    "    cap_geometries.Add(geometry_ids=body_geometries)\n",
    "\n",
    "scene_graph.collision_filter_manager().Apply(\n",
    "    CollisionFilterDeclaration().ExcludeBetween(gripper_geometries, cap_geometries))\n",
    "\n",
    "# TODO: This will consider the gripper touching the cap as a collision. \n",
    "# TODO: Figure out if needs change or adjustment later in grasping space.\n",
    "\n",
    "\n",
    "# Add visualization\n",
    "meshcat_params = MeshcatVisualizerParams()\n",
    "meshcat_params.role = Role.kIllustration\n",
    "\n",
    "visualizer = MeshcatVisualizer.AddToBuilder(\n",
    "    builder,\n",
    "    scene_graph,\n",
    "    meshcat,\n",
    "    meshcat_params)\n",
    "\n",
    "meshcat.SetProperty(\"/Background\", \"top_color\", [0.8, 0.8, 0.6])\n",
    "meshcat.SetProperty(\"/Background\", \"bottom_color\", [0.9, 0.9, 0.9])\n",
    "\n",
    "print(meshcat.web_url())\n",
    "diagram = builder.Build()\n",
    "\n",
    "# Context\n",
    "diagram_context = diagram.CreateDefaultContext()\n",
    "plant_context = plant.GetMyContextFromRoot(diagram_context)\n",
    "scene_graph_context = scene_graph.GetMyMutableContextFromRoot(diagram_context)\n",
    "\n",
    "\n",
    "# Set initial configuration\n",
    "plant.GetJointByName(\"left_finger_sliding_joint\", gripper).set_translation(\n",
    "    plant_context, -0.025\n",
    ")\n",
    "# plant.GetJointByName(\"right_finger_sliding_joint\", gripper).set_translation(\n",
    "#     plant_context, 0.025\n",
    "# )\n",
    "\n",
    "\n",
    "diagram.ForcedPublish(diagram_context)\n",
    "\n",
    "# TCspace\n",
    "Rat_FK = RationalForwardKinematics(plant)\n",
    "\n",
    "q_star = np.zeros(3)\n",
    "\n",
    "cspace_free_polytope = CspaceFreePolytope(\n",
    "    plant, \n",
    "    scene_graph,\n",
    "    SeparatingPlaneOrder.kAffine,\n",
    "    q_star)"
   ]
  },
  {
   "cell_type": "markdown",
   "metadata": {},
   "source": [
    "## Set up the sliders so we can move the plant around manually\n",
    "\n",
    "You can use the sliders below to move the three degrees of freedom of the plant around. A green dot will appear in the TC-space visualization describing the current TC-space configuration."
   ]
  },
  {
   "cell_type": "code",
   "execution_count": 16,
   "metadata": {},
   "outputs": [
    {
     "name": "stdout",
     "output_type": "stream",
     "text": [
      "3\n"
     ]
    },
    {
     "data": {
      "application/vnd.jupyter.widget-view+json": {
       "model_id": "60da4c7633ca432691cc01988f57852c",
       "version_major": 2,
       "version_minor": 0
      },
      "text/plain": [
       "FloatSlider(value=0.0, description='q0', max=3.14159, min=-3.14159, step=0.0628318)"
      ]
     },
     "metadata": {},
     "output_type": "display_data"
    },
    {
     "data": {
      "application/vnd.jupyter.widget-view+json": {
       "model_id": "a2f46e4df9b04346b0f27582c877ca83",
       "version_major": 2,
       "version_minor": 0
      },
      "text/plain": [
       "FloatSlider(value=0.0, description='q1', max=1.0, min=-1.0, step=0.02)"
      ]
     },
     "metadata": {},
     "output_type": "display_data"
    },
    {
     "data": {
      "application/vnd.jupyter.widget-view+json": {
       "model_id": "29ce72edf8794b90b408bb778af68729",
       "version_major": 2,
       "version_minor": 0
      },
      "text/plain": [
       "FloatSlider(value=0.0, description='q2', max=0.0, min=-0.055, step=0.00055)"
      ]
     },
     "metadata": {},
     "output_type": "display_data"
    }
   ],
   "source": [
    "sliders = []\n",
    "print(plant.num_positions())\n",
    "for i in range(plant.num_positions()):\n",
    "    q_low = plant.GetPositionLowerLimits()[i]\n",
    "    q_high = plant.GetPositionUpperLimits()[i]\n",
    "    step = (q_high - q_low) / 100\n",
    "    sliders.append(widgets.FloatSlider(\n",
    "        min=q_low, max=q_high, \n",
    "        value=0, step=step, \n",
    "        description=f\"q{i}\"))\n",
    "q = np.zeros(plant.num_positions())\n",
    "def handle_slider_change(change, idx):\n",
    "    q[idx] = change['new']\n",
    "    plant.SetPositions(plant_context, q)\n",
    "    diagram.ForcedPublish(diagram_context)\n",
    "    \n",
    "idx = 0\n",
    "for slider in sliders:\n",
    "    slider.observe(partial(handle_slider_change, idx = idx), names='value')\n",
    "    idx+=1\n",
    "\n",
    "for slider in sliders:\n",
    "    display(slider)"
   ]
  },
  {
   "cell_type": "code",
   "execution_count": 6,
   "metadata": {},
   "outputs": [],
   "source": [
    "builder = DiagramBuilder()\n",
    "\n",
    "plant, scene_graph = AddMultibodyPlantSceneGraph(builder, time_step=0.0)\n",
    "parser = Parser(plant, scene_graph)\n",
    "parser.SetAutoRenaming(True)\n",
    "\n",
    "gripper = parser.AddModels(file_name=\"my_sdfs/wsg.sdf\")[0]\n",
    "cap = parser.AddModels(file_name=\"my_sdfs/bottle_cap.sdf\")[0]\n",
    "\n",
    "plant.Finalize()"
   ]
  },
  {
   "cell_type": "code",
   "execution_count": 7,
   "metadata": {},
   "outputs": [],
   "source": [
    "B_cap = plant.GetBodyByName(\"cap_link\", cap)\n",
    "B_gripper = plant.GetBodyByName(\"body\", gripper)\n"
   ]
  },
  {
   "cell_type": "code",
   "execution_count": 8,
   "metadata": {},
   "outputs": [
    {
     "data": {
      "text/plain": [
       "<pydrake.geometry.MeshcatVisualizer at 0x7f9fe9c228f0>"
      ]
     },
     "execution_count": 8,
     "metadata": {},
     "output_type": "execute_result"
    }
   ],
   "source": [
    "meshcat.Delete()\n",
    "meshcat.SetProperty(\"/Background\", \"visible\", False)\n",
    "MeshcatVisualizer.AddToBuilder(builder, scene_graph, meshcat)"
   ]
  },
  {
   "cell_type": "code",
   "execution_count": 9,
   "metadata": {},
   "outputs": [],
   "source": [
    "diagram = builder.Build()\n",
    "context = diagram.CreateDefaultContext()\n",
    "plant_context = plant.GetMyContextFromRoot(context)"
   ]
  },
  {
   "cell_type": "code",
   "execution_count": 10,
   "metadata": {},
   "outputs": [
    {
     "data": {
      "text/plain": [
       "<PrismaticJoint name='right_finger_sliding_joint' index=1 model_instance=2>"
      ]
     },
     "execution_count": 10,
     "metadata": {},
     "output_type": "execute_result"
    }
   ],
   "source": [
    "world_body = plant.world_body()\n",
    "X_WO = plant.EvalBodyPoseInWorld(plant_context, world_body)\n",
    "\n",
    "p_GgraspO = [0, .115, 0]\n",
    "R_GgraspO = RotationMatrix.MakeXRotation(np.pi / 2).multiply(RotationMatrix.MakeZRotation(np.pi / 2))\n",
    "\n",
    "X_GgraspO = RigidTransform(R_GgraspO, p_GgraspO)\n",
    "X_OGgrasp = X_GgraspO.inverse()\n",
    "X_WGgrasp = X_WO.multiply(X_OGgrasp)\n",
    "\n",
    "plant.SetFreeBodyPose(plant_context, B_gripper, X_WGgrasp)\n",
    "\n",
    "plant.GetJointByName(\"left_finger_sliding_joint\", gripper).set_translation(\n",
    "    plant_context, -0.033\n",
    ")\n",
    "plant.GetJointByName(\"right_finger_sliding_joint\", gripper).set_translation(\n",
    "    plant_context, 0.033\n",
    ")"
   ]
  },
  {
   "cell_type": "code",
   "execution_count": 11,
   "metadata": {},
   "outputs": [],
   "source": [
    "diagram.ForcedPublish(context)"
   ]
  },
  {
   "cell_type": "code",
   "execution_count": null,
   "metadata": {},
   "outputs": [],
   "source": []
  },
  {
   "cell_type": "code",
   "execution_count": null,
   "metadata": {},
   "outputs": [],
   "source": []
  }
 ],
 "metadata": {
  "kernelspec": {
   "display_name": "Python 3 (ipykernel)",
   "language": "python",
   "name": "python3"
  },
  "language_info": {
   "codemirror_mode": {
    "name": "ipython",
    "version": 3
   },
   "file_extension": ".py",
   "mimetype": "text/x-python",
   "name": "python",
   "nbconvert_exporter": "python",
   "pygments_lexer": "ipython3",
   "version": "3.10.12"
  }
 },
 "nbformat": 4,
 "nbformat_minor": 2
}
