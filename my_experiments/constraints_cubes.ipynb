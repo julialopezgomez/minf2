{
 "cells": [
  {
   "cell_type": "code",
   "execution_count": 1,
   "metadata": {},
   "outputs": [],
   "source": [
    "import numpy as np\n",
    "from pydrake.multibody.plant import AddMultibodyPlantSceneGraph\n",
    "from pydrake.systems.framework import DiagramBuilder\n",
    "from pydrake.geometry import MeshcatVisualizer, StartMeshcat\n",
    "from pydrake.multibody.parsing import Parser\n",
    "from pydrake.math import RigidTransform, RotationMatrix\n",
    "from pydrake.visualization import ApplyVisualizationConfig, VisualizationConfig, AddFrameTriadIllustration\n",
    "\n",
    "# from manipulation.scenarios import SetColor"
   ]
  },
  {
   "cell_type": "code",
   "execution_count": 2,
   "metadata": {},
   "outputs": [
    {
     "name": "stderr",
     "output_type": "stream",
     "text": [
      "INFO:drake:Meshcat listening for connections at http://localhost:7001\n"
     ]
    }
   ],
   "source": [
    "# Start the visualizer.\n",
    "meshcat = StartMeshcat()"
   ]
  },
  {
   "cell_type": "code",
   "execution_count": 3,
   "metadata": {},
   "outputs": [],
   "source": [
    "builder = DiagramBuilder()\n",
    "\n",
    "plant, scene_graph = AddMultibodyPlantSceneGraph(builder, time_step=0.0)\n",
    "parser = Parser(plant, scene_graph)\n",
    "parser.SetAutoRenaming(True)\n",
    "\n",
    "# Add the models to the plant.\n",
    "\n",
    "# Transparent objects\n",
    "# brick = parser.AddModelFromFile(\"models/cube_transparent.sdf\")\n",
    "# grasp1 = parser.AddModelFromFile(\"models/wsg_transparent.sdf\")\n",
    "# grasp2 = parser.AddModelFromFile(\"models/wsg_transparent.sdf\")\n",
    "# grasp3 = parser.AddModelFromFile(\"models/wsg_transparent.sdf\")\n",
    "# grasp4 = parser.AddModelFromFile(\"models/wsg_transparent.sdf\")\n",
    "\n",
    "grasp1 = parser.AddModels(file_name=\"my_sdfs/wsg.sdf\")[0]\n",
    "grasp2 = parser.AddModels(file_name=\"my_sdfs/wsg.sdf\")[0]\n",
    "grasp3 = parser.AddModels(file_name=\"my_sdfs/wsg.sdf\")[0]\n",
    "grasp4 = parser.AddModels(file_name=\"my_sdfs/wsg.sdf\")[0]\n",
    "\n",
    "brick = parser.AddModels(file_name=\"my_sdfs/cube.sdf\")[0]\n",
    "plant.Finalize()\n",
    "\n",
    "bodies_list1 = [grasp1, grasp2, grasp3, grasp4]"
   ]
  },
  {
   "cell_type": "code",
   "execution_count": 4,
   "metadata": {},
   "outputs": [],
   "source": [
    "B_O = plant.GetBodyByName(\"base_link\", brick)\n",
    "B_Ggrasp1 = plant.GetBodyByName(\"body\", grasp1)\n",
    "B_Ggrasp2 = plant.GetBodyByName(\"body\", grasp2)\n",
    "B_Ggrasp3 = plant.GetBodyByName(\"body\", grasp3)\n",
    "B_Ggrasp4 = plant.GetBodyByName(\"body\", grasp4)\n",
    "\n",
    "bodies_list = [B_O, B_Ggrasp1, B_Ggrasp2, B_Ggrasp3, B_Ggrasp4]"
   ]
  },
  {
   "cell_type": "code",
   "execution_count": 5,
   "metadata": {},
   "outputs": [],
   "source": [
    "\n",
    "for body in bodies_list:\n",
    "    if body == B_O:\n",
    "        AddFrameTriadIllustration(\n",
    "            plant=plant,\n",
    "            scene_graph=scene_graph,\n",
    "            body=body,\n",
    "            length=0.09\n",
    "        )\n",
    "        continue\n",
    "    AddFrameTriadIllustration(\n",
    "        plant=plant,\n",
    "        scene_graph=scene_graph,\n",
    "        body=body,\n",
    "        length=0.09,\n",
    "        # opacity=0.2,\n",
    "    )"
   ]
  },
  {
   "cell_type": "code",
   "execution_count": 6,
   "metadata": {},
   "outputs": [
    {
     "data": {
      "text/plain": [
       "<pydrake.geometry.MeshcatVisualizer at 0x10a7eebf0>"
      ]
     },
     "execution_count": 6,
     "metadata": {},
     "output_type": "execute_result"
    }
   ],
   "source": [
    "meshcat.Delete()\n",
    "meshcat.SetProperty(\"/Background\", \"visible\", False)\n",
    "MeshcatVisualizer.AddToBuilder(builder, scene_graph, meshcat)"
   ]
  },
  {
   "cell_type": "code",
   "execution_count": null,
   "metadata": {},
   "outputs": [],
   "source": []
  },
  {
   "cell_type": "code",
   "execution_count": 7,
   "metadata": {},
   "outputs": [],
   "source": [
    "diagram = builder.Build()\n",
    "context = diagram.CreateDefaultContext()\n",
    "plant_context = plant.GetMyContextFromRoot(context)"
   ]
  },
  {
   "cell_type": "code",
   "execution_count": 8,
   "metadata": {},
   "outputs": [],
   "source": [
    "\n",
    "# Get the current object, O, pose\n",
    "world_body = plant.world_body()\n",
    "X_WO = plant.EvalBodyPoseInWorld(plant_context, world_body)\n",
    "\n",
    "rotation_constraints = np.linspace(0, np.pi, len(bodies_list)-1)\n",
    "\n",
    "p_GgraspO = [0, .11, 0]\n",
    "R_GgraspO = {}\n",
    "X_GgraspO = {}\n",
    "X_OGgrasp = {}\n",
    "X_WGgrasp = {}\n",
    "\n",
    "for i in range(len(rotation_constraints)):\n",
    "    R_GgraspO[i] = RotationMatrix.MakeXRotation(rotation_constraints[i]).multiply(RotationMatrix.MakeZRotation(np.pi / 2))\n",
    "    X_GgraspO[i] = RigidTransform(R_GgraspO[i], p_GgraspO)\n",
    "    X_OGgrasp[i] = X_GgraspO[i].inverse()\n",
    "    X_WGgrasp[i] = X_WO.multiply(X_OGgrasp[i])\n",
    "\n",
    "\n",
    "for i in range(len(rotation_constraints)):\n",
    "    plant.SetFreeBodyPose(plant_context, bodies_list[i+1], X_WGgrasp[i])\n",
    "    plant.GetJointByName(\"left_finger_sliding_joint\", bodies_list1[i]).set_translation(\n",
    "        plant_context, -0.025\n",
    "    )\n",
    "    plant.GetJointByName(\"right_finger_sliding_joint\", bodies_list1[i]).set_translation(\n",
    "        plant_context, 0.025\n",
    "    )\n"
   ]
  },
  {
   "cell_type": "code",
   "execution_count": 9,
   "metadata": {},
   "outputs": [],
   "source": [
    "diagram.ForcedPublish(context)"
   ]
  },
  {
   "cell_type": "code",
   "execution_count": null,
   "metadata": {},
   "outputs": [],
   "source": []
  }
 ],
 "metadata": {
  "kernelspec": {
   "display_name": "Python 3",
   "language": "python",
   "name": "python3"
  },
  "language_info": {
   "codemirror_mode": {
    "name": "ipython",
    "version": 3
   },
   "file_extension": ".py",
   "mimetype": "text/x-python",
   "name": "python",
   "nbconvert_exporter": "python",
   "pygments_lexer": "ipython3",
   "version": "3.11.7"
  }
 },
 "nbformat": 4,
 "nbformat_minor": 2
}
