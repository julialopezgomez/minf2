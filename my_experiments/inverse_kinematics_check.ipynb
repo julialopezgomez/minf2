{
 "cells": [
  {
   "cell_type": "code",
   "execution_count": 1,
   "metadata": {},
   "outputs": [
    {
     "data": {
      "text/plain": [
       "(-0.9999307809844107, -3.999987175486786)"
      ]
     },
     "execution_count": 1,
     "metadata": {},
     "output_type": "execute_result"
    }
   ],
   "source": [
    "import numpy as np\n",
    "l1 = 3\n",
    "l2 = 2\n",
    "a = -166.82\n",
    "b = -70.53\n",
    "#tangent in degrees\n",
    "t1 = np.tan(np.radians(a)/2)\n",
    "t2 = np.tan(np.radians(b)/2)\n",
    "\n",
    "# Calculate p_x and p_y using the given values for the new equations\n",
    "p_x = (-2*l2*t1*(1-t2**2) - 2*l2*t2*(1-t1**2)-2*l1*t1*(1+t2**2))/((1 + t2**2)*(1 + t1**2))\n",
    "p_y = (l2*(1-t1**2)*(1-t2**2) -4*l2*t1*t2 + l1*(1-t1**2)*(1+t2**2))/((1 + t2**2)*(1 + t1**2))\n",
    "\n",
    "p_x, p_y"
   ]
  },
  {
   "cell_type": "code",
   "execution_count": null,
   "metadata": {},
   "outputs": [],
   "source": []
  }
 ],
 "metadata": {
  "kernelspec": {
   "display_name": "Python 3",
   "language": "python",
   "name": "python3"
  },
  "language_info": {
   "codemirror_mode": {
    "name": "ipython",
    "version": 3
   },
   "file_extension": ".py",
   "mimetype": "text/x-python",
   "name": "python",
   "nbconvert_exporter": "python",
   "pygments_lexer": "ipython3",
   "version": "3.10.12"
  }
 },
 "nbformat": 4,
 "nbformat_minor": 2
}
