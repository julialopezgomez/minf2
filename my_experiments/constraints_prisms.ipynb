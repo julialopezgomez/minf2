{
 "cells": [
  {
   "cell_type": "code",
   "execution_count": 6,
   "metadata": {},
   "outputs": [],
   "source": [
    "import numpy as np\n",
    "from pydrake.multibody.plant import AddMultibodyPlantSceneGraph\n",
    "from pydrake.systems.framework import DiagramBuilder\n",
    "from pydrake.geometry import MeshcatVisualizer, StartMeshcat\n",
    "from pydrake.multibody.parsing import Parser\n",
    "from pydrake.math import RigidTransform, RotationMatrix\n",
    "from pydrake.visualization import ApplyVisualizationConfig, VisualizationConfig, AddFrameTriadIllustration\n",
    "\n",
    "# from manipulation.scenarios import SetColor"
   ]
  },
  {
   "cell_type": "code",
   "execution_count": 7,
   "metadata": {},
   "outputs": [
    {
     "name": "stderr",
     "output_type": "stream",
     "text": [
      "INFO:drake:Meshcat listening for connections at http://localhost:7005\n"
     ]
    }
   ],
   "source": [
    "# Start the visualizer.\n",
    "meshcat = StartMeshcat()"
   ]
  },
  {
   "cell_type": "code",
   "execution_count": 8,
   "metadata": {},
   "outputs": [],
   "source": [
    "builder = DiagramBuilder()\n",
    "\n",
    "plant, scene_graph = AddMultibodyPlantSceneGraph(builder, time_step=0.0)\n",
    "parser = Parser(plant, scene_graph)\n",
    "parser.SetAutoRenaming(True)\n",
    "\n",
    "# Add the models to the plant.\n",
    "\n",
    "# Transparent objects\n",
    "# grasp1 = parser.AddModels(\"my_sdfs/wsg_transparent.sdf\")[0]\n",
    "# grasp2 = parser.AddModels(\"my_sdfs/wsg_transparent.sdf\")[0]\n",
    "# grasp3 = parser.AddModels(\"my_sdfs/wsg_transparent.sdf\")[0]\n",
    "# grasp4 = parser.AddModels(\"my_sdfs/wsg_transparent.sdf\")[0]\n",
    "\n",
    "grasp1 = parser.AddModels(file_name=\"my_sdfs/wsg.sdf\")[0]\n",
    "grasp2 = parser.AddModels(file_name=\"my_sdfs/wsg.sdf\")[0]\n",
    "grasp3 = 1#parser.AddModels(file_name=\"my_sdfs/wsg.sdf\")[0]\n",
    "grasp4 = 1#parser.AddModels(file_name=\"my_sdfs/wsg.sdf\")[0]\n",
    "\n",
    "brick = parser.AddModels(file_name=\"my_sdfs/prism.sdf\")[0]\n",
    "plant.Finalize()\n",
    "\n",
    "models_list = [grasp1, grasp2, grasp3, grasp4]"
   ]
  },
  {
   "cell_type": "code",
   "execution_count": 9,
   "metadata": {},
   "outputs": [],
   "source": [
    "B_O = plant.GetBodyByName(\"base_link\", brick)\n",
    "B_Ggrasp1 = plant.GetBodyByName(\"body\", grasp1)\n",
    "B_Ggrasp2 = plant.GetBodyByName(\"body\", grasp2)\n",
    "B_Ggrasp3 = 1#plant.GetBodyByName(\"body\", grasp3)\n",
    "B_Ggrasp4 = 1#plant.GetBodyByName(\"body\", grasp4)\n",
    "\n",
    "bodies_list = [B_O, B_Ggrasp1, B_Ggrasp2, B_Ggrasp3, B_Ggrasp4]"
   ]
  },
  {
   "cell_type": "code",
   "execution_count": 10,
   "metadata": {},
   "outputs": [],
   "source": [
    "\n",
    "for body in bodies_list:\n",
    "    if body == B_Ggrasp3 or body == B_Ggrasp4:\n",
    "        continue\n",
    "    if body == B_O:\n",
    "        AddFrameTriadIllustration(\n",
    "            plant=plant,\n",
    "            scene_graph=scene_graph,\n",
    "            body=body,\n",
    "            length=0.09\n",
    "        )\n",
    "        continue\n",
    "    AddFrameTriadIllustration(\n",
    "        plant=plant,\n",
    "        scene_graph=scene_graph,\n",
    "        body=body,\n",
    "        length=0.09\n",
    "        # opacity=0.2,\n",
    "    )"
   ]
  },
  {
   "cell_type": "code",
   "execution_count": 11,
   "metadata": {},
   "outputs": [],
   "source": [
    "meshcat.Delete()\n",
    "meshcat.SetProperty(\"/Background\", \"visible\", False)\n",
    "MeshcatVisualizer.AddToBuilder(builder, scene_graph, meshcat)\n",
    "diagram = builder.Build()\n",
    "context = diagram.CreateDefaultContext()\n",
    "plant_context = plant.GetMyContextFromRoot(context)"
   ]
  },
  {
   "cell_type": "code",
   "execution_count": 12,
   "metadata": {},
   "outputs": [],
   "source": [
    "\n",
    "# Get the current object, O, pose\n",
    "world_body = plant.world_body()\n",
    "X_WO = plant.EvalBodyPoseInWorld(plant_context, world_body)\n",
    "\n",
    "rotation_constraints = [0, np.pi/2, np.pi/2, np.pi]\n",
    "p_GgraspO = [[0, 0.11 + 0.075, 0],\n",
    "             [0, 0.11, 0.075],\n",
    "             [0, 0.11, -0.075],\n",
    "             [0, 0.11 + 0.075, 0]]\n",
    "\n",
    "R_GgraspO = {}\n",
    "X_GgraspO = {}\n",
    "X_OGgrasp = {}\n",
    "X_WGgrasp = {}\n",
    "\n",
    "R_GgraspO[0] = RotationMatrix.MakeXRotation(rotation_constraints[0])\n",
    "X_GgraspO[0] = RigidTransform(R_GgraspO[0], p_GgraspO[0])\n",
    "X_OGgrasp[0] = X_GgraspO[0].inverse()\n",
    "X_WGgrasp[0] = X_WO.multiply(X_OGgrasp[0])\n",
    "\n",
    "R_GgraspO[1] = RotationMatrix.MakeXRotation(rotation_constraints[1])\n",
    "X_GgraspO[1] = RigidTransform(R_GgraspO[1], p_GgraspO[1])\n",
    "X_OGgrasp[1] = X_GgraspO[1].inverse()\n",
    "X_WGgrasp[1] = X_WO.multiply(X_OGgrasp[1])\n",
    "\n",
    "# R_GgraspO[2] = RotationMatrix.MakeXRotation(rotation_constraints[2])\n",
    "# X_GgraspO[2] = RigidTransform(R_GgraspO[2], p_GgraspO[2])\n",
    "# X_OGgrasp[2] = X_GgraspO[2].inverse()\n",
    "# X_WGgrasp[2] = X_WO.multiply(X_OGgrasp[2])\n",
    "\n",
    "# R_GgraspO[3] = RotationMatrix.MakeXRotation(rotation_constraints[3])\n",
    "# X_GgraspO[3] = RigidTransform(R_GgraspO[3], p_GgraspO[3])\n",
    "# X_OGgrasp[3] = X_GgraspO[3].inverse()\n",
    "# X_WGgrasp[3] = X_WO.multiply(X_OGgrasp[3])\n",
    "\n",
    "\n",
    "for i in range(len(rotation_constraints)):\n",
    "    if i == 2 or i == 3:\n",
    "        continue\n",
    "    plant.SetFreeBodyPose(plant_context, bodies_list[i+1], X_WGgrasp[i])\n",
    "    plant.GetJointByName(\"left_finger_sliding_joint\", models_list[i]).set_translation(\n",
    "        plant_context, -0.025\n",
    "    )\n",
    "    plant.GetJointByName(\"right_finger_sliding_joint\", models_list[i]).set_translation(\n",
    "        plant_context, 0.025\n",
    "    )\n"
   ]
  },
  {
   "cell_type": "code",
   "execution_count": 13,
   "metadata": {},
   "outputs": [],
   "source": [
    "diagram.ForcedPublish(context)"
   ]
  },
  {
   "cell_type": "code",
   "execution_count": null,
   "metadata": {},
   "outputs": [],
   "source": []
  }
 ],
 "metadata": {
  "kernelspec": {
   "display_name": "Python 3",
   "language": "python",
   "name": "python3"
  },
  "language_info": {
   "codemirror_mode": {
    "name": "ipython",
    "version": 3
   },
   "file_extension": ".py",
   "mimetype": "text/x-python",
   "name": "python",
   "nbconvert_exporter": "python",
   "pygments_lexer": "ipython3",
   "version": "3.11.7"
  }
 },
 "nbformat": 4,
 "nbformat_minor": 2
}
