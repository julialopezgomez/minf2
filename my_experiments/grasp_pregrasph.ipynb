{
 "cells": [
  {
   "cell_type": "code",
   "execution_count": 1,
   "metadata": {},
   "outputs": [],
   "source": [
    "import numpy as np\n",
    "from pydrake.multibody.plant import AddMultibodyPlantSceneGraph\n",
    "from pydrake.systems.framework import DiagramBuilder\n",
    "from pydrake.geometry import MeshcatVisualizer, StartMeshcat\n",
    "from pydrake.multibody.parsing import Parser\n",
    "from pydrake.math import RigidTransform, RotationMatrix\n",
    "from pydrake.visualization import ApplyVisualizationConfig, VisualizationConfig, AddFrameTriadIllustration\n",
    "\n",
    "# Import some basic libraries and functions for this tutorial.\n",
    "import numpy as np\n",
    "import os\n",
    "\n",
    "from pydrake.common import temp_directory\n",
    "from pydrake.geometry import SceneGraphConfig, StartMeshcat\n",
    "from pydrake.math import RigidTransform, RollPitchYaw, RotationMatrix\n",
    "from pydrake.multibody.parsing import Parser\n",
    "from pydrake.multibody.plant import AddMultibodyPlantSceneGraph\n",
    "from pydrake.systems.analysis import Simulator\n",
    "from pydrake.systems.framework import DiagramBuilder\n",
    "from pydrake.visualization import AddDefaultVisualization, ModelVisualizer\n",
    "# from manipulation.scenarios import SetColor"
   ]
  },
  {
   "cell_type": "code",
   "execution_count": 2,
   "metadata": {},
   "outputs": [
    {
     "name": "stderr",
     "output_type": "stream",
     "text": [
      "INFO:drake:Meshcat listening for connections at http://localhost:7000\n"
     ]
    }
   ],
   "source": [
    "# Start the visualizer.\n",
    "meshcat = StartMeshcat()"
   ]
  },
  {
   "cell_type": "code",
   "execution_count": 3,
   "metadata": {},
   "outputs": [],
   "source": [
    "schunk_wsg50_model_url = (\n",
    "    \"package://drake_models/wsg_50_description/sdf/\"\n",
    "    \"schunk_wsg_50_with_tip.sdf\")\n",
    "\n",
    "# Create a NEW model visualizer and add the robot gripper.\n",
    "visualizer = ModelVisualizer(meshcat=meshcat)\n",
    "grasp = visualizer.parser().AddModels(url=schunk_wsg50_model_url)[0]"
   ]
  },
  {
   "cell_type": "code",
   "execution_count": 4,
   "metadata": {},
   "outputs": [],
   "source": [
    "builder = DiagramBuilder()\n",
    "\n",
    "plant, scene_graph = AddMultibodyPlantSceneGraph(builder, time_step=0.0)\n",
    "parser = Parser(plant, scene_graph)\n",
    "parser.SetAutoRenaming(True)\n",
    "\n",
    "grasp2 = parser.AddModelsFromUrl(\n",
    "    \"package://drake/examples/planar_gripper/planar_gripper.sdf\"\n",
    ")[0]\n",
    "brick = parser.AddModelsFromUrl(\n",
    "    \"package://drake_models/manipulation_station/061_foam_brick.sdf\"\n",
    ")[0]\n",
    "grasp = parser.AddModelsFromUrl(\n",
    "    \"package://drake_models/wsg_50_description/sdf/schunk_wsg_50_no_tip.sdf\"\n",
    ")[0]\n",
    "pregrasp = parser.AddModelsFromUrl(\n",
    "    \"package://drake_models/wsg_50_description/sdf/schunk_wsg_50_no_tip.sdf\"\n",
    ")[0]\n",
    "\n",
    "plant.Finalize()"
   ]
  },
  {
   "cell_type": "markdown",
   "metadata": {},
   "source": []
  },
  {
   "cell_type": "code",
   "execution_count": 5,
   "metadata": {},
   "outputs": [
    {
     "name": "stdout",
     "output_type": "stream",
     "text": [
      "ModelInstanceIndex(4)\n",
      "ModelInstanceIndex(2)\n"
     ]
    }
   ],
   "source": [
    "print(grasp)\n",
    "print(grasp2)"
   ]
  },
  {
   "cell_type": "code",
   "execution_count": 6,
   "metadata": {},
   "outputs": [],
   "source": [
    "B_O = plant.GetBodyByName(\"base_link\", brick)\n",
    "B_Ggrasp = plant.GetBodyByName('body', grasp)\n",
    "B_Gpregrasp = plant.GetBodyByName(\"body\", pregrasp)"
   ]
  },
  {
   "cell_type": "code",
   "execution_count": 7,
   "metadata": {},
   "outputs": [],
   "source": [
    "# Set the pregrasp to be green and slightly transparent.\n",
    "inspector = scene_graph.model_inspector()\n",
    "\n",
    "for body in [B_O, B_Ggrasp, B_Gpregrasp]:#, B_Gpregrasp]:\n",
    "    AddFrameTriadIllustration(\n",
    "        plant=plant,\n",
    "        scene_graph=scene_graph,\n",
    "        body=body,\n",
    "        length=0.12\n",
    "    )"
   ]
  },
  {
   "cell_type": "code",
   "execution_count": 8,
   "metadata": {},
   "outputs": [
    {
     "data": {
      "text/plain": [
       "<pydrake.geometry.MeshcatVisualizer at 0x7fa3b853a5f0>"
      ]
     },
     "execution_count": 8,
     "metadata": {},
     "output_type": "execute_result"
    }
   ],
   "source": [
    "meshcat.Delete()\n",
    "meshcat.SetProperty(\"/Background\", \"visible\", False)\n",
    "MeshcatVisualizer.AddToBuilder(builder, scene_graph, meshcat)"
   ]
  },
  {
   "cell_type": "code",
   "execution_count": 9,
   "metadata": {},
   "outputs": [],
   "source": [
    "diagram = builder.Build()\n",
    "context = diagram.CreateDefaultContext()\n",
    "plant_context = plant.GetMyContextFromRoot(context)\n",
    "\n"
   ]
  },
  {
   "cell_type": "code",
   "execution_count": 10,
   "metadata": {},
   "outputs": [
    {
     "data": {
      "text/plain": [
       "<PrismaticJoint name='right_finger_sliding_joint' index=12 model_instance=5>"
      ]
     },
     "execution_count": 10,
     "metadata": {},
     "output_type": "execute_result"
    }
   ],
   "source": [
    "\n",
    "# Get the current object, O, pose\n",
    "world_body = plant.world_body()\n",
    "X_WO = plant.EvalBodyPoseInWorld(plant_context, world_body)\n",
    "\n",
    "p_GgraspO = [0, .12, 0]\n",
    "R_GgraspO = RotationMatrix.MakeXRotation(np.pi / 2).multiply(RotationMatrix.MakeZRotation(np.pi / 2))\n",
    "\n",
    "X_GgraspO = RigidTransform(R_GgraspO, p_GgraspO)\n",
    "X_OGgrasp = X_GgraspO.inverse()\n",
    "X_WGgrasp = X_WO.multiply(X_OGgrasp)\n",
    "\n",
    "# pregrasp is negative y in the gripper frame (see the figure!).\n",
    "X_GgraspGpregrasp = RigidTransform([0, -0.2, 0])\n",
    "X_WGpregrasp = X_WGgrasp @ X_GgraspGpregrasp\n",
    "\n",
    "plant.SetFreeBodyPose(plant_context, B_Ggrasp, X_WGgrasp)\n",
    "# Open the fingers, too.\n",
    "plant.GetJointByName(\"left_finger_sliding_joint\", grasp).set_translation(\n",
    "    plant_context, -0.025\n",
    ")\n",
    "plant.GetJointByName(\"right_finger_sliding_joint\", grasp).set_translation(\n",
    "    plant_context, 0.025\n",
    ")\n",
    "\n",
    "plant.SetFreeBodyPose(plant_context, B_Gpregrasp, X_WGpregrasp)\n",
    "# Open the fingers, too.\n",
    "plant.GetJointByName(\"left_finger_sliding_joint\", pregrasp).set_translation(\n",
    "    plant_context, -0.054\n",
    ")\n",
    "plant.GetJointByName(\"right_finger_sliding_joint\", pregrasp).set_translation(\n",
    "    plant_context, 0.054\n",
    ") \n",
    "\n",
    "\n"
   ]
  },
  {
   "cell_type": "code",
   "execution_count": 11,
   "metadata": {},
   "outputs": [],
   "source": [
    "diagram.ForcedPublish(context)"
   ]
  },
  {
   "cell_type": "code",
   "execution_count": null,
   "metadata": {},
   "outputs": [],
   "source": []
  },
  {
   "cell_type": "code",
   "execution_count": null,
   "metadata": {},
   "outputs": [],
   "source": []
  }
 ],
 "metadata": {
  "kernelspec": {
   "display_name": "Python 3",
   "language": "python",
   "name": "python3"
  },
  "language_info": {
   "codemirror_mode": {
    "name": "ipython",
    "version": 3
   },
   "file_extension": ".py",
   "mimetype": "text/x-python",
   "name": "python",
   "nbconvert_exporter": "python",
   "pygments_lexer": "ipython3",
   "version": "3.10.12"
  }
 },
 "nbformat": 4,
 "nbformat_minor": 2
}
